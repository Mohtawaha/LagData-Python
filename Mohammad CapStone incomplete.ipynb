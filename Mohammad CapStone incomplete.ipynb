{
 "cells": [
  {
   "cell_type": "code",
   "execution_count": 13,
   "id": "69fdaa9b",
   "metadata": {},
   "outputs": [],
   "source": [
    "### Import Libraries\n",
    "\n",
    "import pandas as pd\n",
    "import numpy as np\n",
    "import matplotlib.pyplot as plt\n",
    "import seaborn as sns\n",
    "\n",
    "### import upload the dataset\n",
    "\n",
    "df = pd.read_csv('NYPDARREST.csv')"
   ]
  },
  {
   "cell_type": "markdown",
   "id": "e85a2d7b",
   "metadata": {},
   "source": [
    "# This is a breakdown of every arrest effected in NYC by the NYPD during the current year.\n",
    "\" This data is manually extracted every quarter and reviewed by the Office of Management Analysis and Planning. \n",
    "Each record represents an arrest effected in NYC by the NYPD and includes information about the type of crime, the location and time of enforcement. \n",
    "In addition, information related to suspect demographics is also included. \n",
    "This data can be used by the public to explore the nature of police enforcement activity. \n",
    "Please refer to the attached data footnotes for additional information about this dataset.\""
   ]
  },
  {
   "cell_type": "code",
   "execution_count": 19,
   "id": "582d37c3",
   "metadata": {},
   "outputs": [
    {
     "data": {
      "text/html": [
       "<div>\n",
       "<style scoped>\n",
       "    .dataframe tbody tr th:only-of-type {\n",
       "        vertical-align: middle;\n",
       "    }\n",
       "\n",
       "    .dataframe tbody tr th {\n",
       "        vertical-align: top;\n",
       "    }\n",
       "\n",
       "    .dataframe thead th {\n",
       "        text-align: right;\n",
       "    }\n",
       "</style>\n",
       "<table border=\"1\" class=\"dataframe\">\n",
       "  <thead>\n",
       "    <tr style=\"text-align: right;\">\n",
       "      <th></th>\n",
       "      <th>ARREST_KEY</th>\n",
       "      <th>ARREST_DATE</th>\n",
       "      <th>PD_CD</th>\n",
       "      <th>PD_DESC</th>\n",
       "      <th>KY_CD</th>\n",
       "      <th>OFNS_DESC</th>\n",
       "      <th>LAW_CODE</th>\n",
       "      <th>LAW_CAT_CD</th>\n",
       "      <th>ARREST_BORO</th>\n",
       "      <th>ARREST_PRECINCT</th>\n",
       "      <th>JURISDICTION_CODE</th>\n",
       "      <th>AGE_GROUP</th>\n",
       "      <th>PERP_SEX</th>\n",
       "      <th>PERP_RACE</th>\n",
       "      <th>X_COORD_CD</th>\n",
       "      <th>Y_COORD_CD</th>\n",
       "      <th>Latitude</th>\n",
       "      <th>Longitude</th>\n",
       "      <th>New Georeferenced Column</th>\n",
       "    </tr>\n",
       "  </thead>\n",
       "  <tbody>\n",
       "    <tr>\n",
       "      <th>0</th>\n",
       "      <td>263238742</td>\n",
       "      <td>2/8/23</td>\n",
       "      <td>380.0</td>\n",
       "      <td>ROBBERY,CAR JACKING</td>\n",
       "      <td>105.0</td>\n",
       "      <td>ROBBERY</td>\n",
       "      <td>PL 1601003</td>\n",
       "      <td>F</td>\n",
       "      <td>K</td>\n",
       "      <td>62</td>\n",
       "      <td>0</td>\n",
       "      <td>25-44</td>\n",
       "      <td>F</td>\n",
       "      <td>WHITE</td>\n",
       "      <td>989904</td>\n",
       "      <td>156928</td>\n",
       "      <td>40.597407</td>\n",
       "      <td>-73.979638</td>\n",
       "      <td>POINT (-73.979638 40.597407)</td>\n",
       "    </tr>\n",
       "    <tr>\n",
       "      <th>1</th>\n",
       "      <td>265590985</td>\n",
       "      <td>3/24/23</td>\n",
       "      <td>155.0</td>\n",
       "      <td>RAPE 2</td>\n",
       "      <td>104.0</td>\n",
       "      <td>RAPE</td>\n",
       "      <td>PL 1303001</td>\n",
       "      <td>F</td>\n",
       "      <td>S</td>\n",
       "      <td>120</td>\n",
       "      <td>0</td>\n",
       "      <td>18-24</td>\n",
       "      <td>M</td>\n",
       "      <td>BLACK</td>\n",
       "      <td>962873</td>\n",
       "      <td>174172</td>\n",
       "      <td>40.644721</td>\n",
       "      <td>-74.077033</td>\n",
       "      <td>POINT (-74.0770327198983 40.6447209438691)</td>\n",
       "    </tr>\n",
       "    <tr>\n",
       "      <th>2</th>\n",
       "      <td>265798132</td>\n",
       "      <td>3/28/23</td>\n",
       "      <td>157.0</td>\n",
       "      <td>RAPE 1</td>\n",
       "      <td>104.0</td>\n",
       "      <td>RAPE</td>\n",
       "      <td>PL 1303501</td>\n",
       "      <td>F</td>\n",
       "      <td>S</td>\n",
       "      <td>120</td>\n",
       "      <td>0</td>\n",
       "      <td>25-44</td>\n",
       "      <td>M</td>\n",
       "      <td>BLACK</td>\n",
       "      <td>962873</td>\n",
       "      <td>174172</td>\n",
       "      <td>40.644721</td>\n",
       "      <td>-74.077033</td>\n",
       "      <td>POINT (-74.0770327198983 40.6447209438691)</td>\n",
       "    </tr>\n",
       "    <tr>\n",
       "      <th>3</th>\n",
       "      <td>269233687</td>\n",
       "      <td>6/2/23</td>\n",
       "      <td>157.0</td>\n",
       "      <td>RAPE 1</td>\n",
       "      <td>104.0</td>\n",
       "      <td>RAPE</td>\n",
       "      <td>PL 1303501</td>\n",
       "      <td>F</td>\n",
       "      <td>Q</td>\n",
       "      <td>110</td>\n",
       "      <td>0</td>\n",
       "      <td>25-44</td>\n",
       "      <td>M</td>\n",
       "      <td>WHITE HISPANIC</td>\n",
       "      <td>1019164</td>\n",
       "      <td>210169</td>\n",
       "      <td>40.743481</td>\n",
       "      <td>-73.874004</td>\n",
       "      <td>POINT (-73.8740035373971 40.7434812638841)</td>\n",
       "    </tr>\n",
       "    <tr>\n",
       "      <th>4</th>\n",
       "      <td>270519574</td>\n",
       "      <td>6/28/23</td>\n",
       "      <td>157.0</td>\n",
       "      <td>RAPE 1</td>\n",
       "      <td>104.0</td>\n",
       "      <td>RAPE</td>\n",
       "      <td>PL 1303501</td>\n",
       "      <td>F</td>\n",
       "      <td>K</td>\n",
       "      <td>84</td>\n",
       "      <td>0</td>\n",
       "      <td>25-44</td>\n",
       "      <td>M</td>\n",
       "      <td>BLACK HISPANIC</td>\n",
       "      <td>988902</td>\n",
       "      <td>192641</td>\n",
       "      <td>40.695439</td>\n",
       "      <td>-73.983225</td>\n",
       "      <td>POINT (-73.9832253756043 40.6954388081238)</td>\n",
       "    </tr>\n",
       "  </tbody>\n",
       "</table>\n",
       "</div>"
      ],
      "text/plain": [
       "   ARREST_KEY ARREST_DATE  PD_CD              PD_DESC  KY_CD OFNS_DESC  \\\n",
       "0   263238742      2/8/23  380.0  ROBBERY,CAR JACKING  105.0   ROBBERY   \n",
       "1   265590985     3/24/23  155.0               RAPE 2  104.0      RAPE   \n",
       "2   265798132     3/28/23  157.0               RAPE 1  104.0      RAPE   \n",
       "3   269233687      6/2/23  157.0               RAPE 1  104.0      RAPE   \n",
       "4   270519574     6/28/23  157.0               RAPE 1  104.0      RAPE   \n",
       "\n",
       "     LAW_CODE LAW_CAT_CD ARREST_BORO  ARREST_PRECINCT  JURISDICTION_CODE  \\\n",
       "0  PL 1601003          F           K               62                  0   \n",
       "1  PL 1303001          F           S              120                  0   \n",
       "2  PL 1303501          F           S              120                  0   \n",
       "3  PL 1303501          F           Q              110                  0   \n",
       "4  PL 1303501          F           K               84                  0   \n",
       "\n",
       "  AGE_GROUP PERP_SEX       PERP_RACE  X_COORD_CD  Y_COORD_CD   Latitude  \\\n",
       "0     25-44        F           WHITE      989904      156928  40.597407   \n",
       "1     18-24        M           BLACK      962873      174172  40.644721   \n",
       "2     25-44        M           BLACK      962873      174172  40.644721   \n",
       "3     25-44        M  WHITE HISPANIC     1019164      210169  40.743481   \n",
       "4     25-44        M  BLACK HISPANIC      988902      192641  40.695439   \n",
       "\n",
       "   Longitude                    New Georeferenced Column  \n",
       "0 -73.979638                POINT (-73.979638 40.597407)  \n",
       "1 -74.077033  POINT (-74.0770327198983 40.6447209438691)  \n",
       "2 -74.077033  POINT (-74.0770327198983 40.6447209438691)  \n",
       "3 -73.874004  POINT (-73.8740035373971 40.7434812638841)  \n",
       "4 -73.983225  POINT (-73.9832253756043 40.6954388081238)  "
      ]
     },
     "execution_count": 19,
     "metadata": {},
     "output_type": "execute_result"
    }
   ],
   "source": [
    "### having a look into our data \n",
    "\n",
    "df.head()"
   ]
  },
  {
   "cell_type": "code",
   "execution_count": 28,
   "id": "9218f7cb",
   "metadata": {},
   "outputs": [
    {
     "data": {
      "text/plain": [
       "(112571, 19)"
      ]
     },
     "execution_count": 28,
     "metadata": {},
     "output_type": "execute_result"
    }
   ],
   "source": [
    "df.shape"
   ]
  },
  {
   "cell_type": "code",
   "execution_count": 20,
   "id": "c4978f96",
   "metadata": {},
   "outputs": [
    {
     "data": {
      "text/plain": [
       "Index(['ARREST_KEY', 'ARREST_DATE', 'PD_CD', 'PD_DESC', 'KY_CD', 'OFNS_DESC',\n",
       "       'LAW_CODE', 'LAW_CAT_CD', 'ARREST_BORO', 'ARREST_PRECINCT',\n",
       "       'JURISDICTION_CODE', 'AGE_GROUP', 'PERP_SEX', 'PERP_RACE', 'X_COORD_CD',\n",
       "       'Y_COORD_CD', 'Latitude', 'Longitude', 'New Georeferenced Column'],\n",
       "      dtype='object')"
      ]
     },
     "execution_count": 20,
     "metadata": {},
     "output_type": "execute_result"
    }
   ],
   "source": [
    "df.columns"
   ]
  },
  {
   "cell_type": "code",
   "execution_count": 18,
   "id": "36076587",
   "metadata": {},
   "outputs": [
    {
     "name": "stdout",
     "output_type": "stream",
     "text": [
      "<class 'pandas.core.frame.DataFrame'>\n",
      "RangeIndex: 112571 entries, 0 to 112570\n",
      "Data columns (total 19 columns):\n",
      " #   Column                    Non-Null Count   Dtype  \n",
      "---  ------                    --------------   -----  \n",
      " 0   ARREST_KEY                112571 non-null  int64  \n",
      " 1   ARREST_DATE               112571 non-null  object \n",
      " 2   PD_CD                     112110 non-null  float64\n",
      " 3   PD_DESC                   112571 non-null  object \n",
      " 4   KY_CD                     112105 non-null  float64\n",
      " 5   OFNS_DESC                 112571 non-null  object \n",
      " 6   LAW_CODE                  112571 non-null  object \n",
      " 7   LAW_CAT_CD                111725 non-null  object \n",
      " 8   ARREST_BORO               112571 non-null  object \n",
      " 9   ARREST_PRECINCT           112571 non-null  int64  \n",
      " 10  JURISDICTION_CODE         112571 non-null  int64  \n",
      " 11  AGE_GROUP                 112571 non-null  object \n",
      " 12  PERP_SEX                  112571 non-null  object \n",
      " 13  PERP_RACE                 112571 non-null  object \n",
      " 14  X_COORD_CD                112571 non-null  int64  \n",
      " 15  Y_COORD_CD                112571 non-null  int64  \n",
      " 16  Latitude                  112571 non-null  float64\n",
      " 17  Longitude                 112571 non-null  float64\n",
      " 18  New Georeferenced Column  112571 non-null  object \n",
      "dtypes: float64(4), int64(5), object(10)\n",
      "memory usage: 16.3+ MB\n"
     ]
    }
   ],
   "source": [
    "df.info()"
   ]
  },
  {
   "cell_type": "code",
   "execution_count": 29,
   "id": "3bfbd337",
   "metadata": {},
   "outputs": [
    {
     "data": {
      "text/plain": [
       "AGE_GROUP\n",
       "18-24    19682\n",
       "25-44    64823\n",
       "45-64    22058\n",
       "65+       1766\n",
       "<18       4242\n",
       "Name: ARREST_BORO, dtype: int64"
      ]
     },
     "execution_count": 29,
     "metadata": {},
     "output_type": "execute_result"
    }
   ],
   "source": [
    "df.groupby('AGE_GROUP')['ARREST_BORO'].count()"
   ]
  },
  {
   "cell_type": "code",
   "execution_count": 30,
   "id": "bc2ff48c",
   "metadata": {},
   "outputs": [
    {
     "data": {
      "text/plain": [
       "ARREST_BORO\n",
       "B    26757\n",
       "K    31104\n",
       "M    25902\n",
       "Q    23922\n",
       "S     4886\n",
       "Name: AGE_GROUP, dtype: int64"
      ]
     },
     "execution_count": 30,
     "metadata": {},
     "output_type": "execute_result"
    }
   ],
   "source": [
    "df.groupby('ARREST_BORO')['AGE_GROUP'].count()"
   ]
  },
  {
   "cell_type": "code",
   "execution_count": null,
   "id": "ffda9337",
   "metadata": {},
   "outputs": [],
   "source": []
  }
 ],
 "metadata": {
  "kernelspec": {
   "display_name": "Python 3 (ipykernel)",
   "language": "python",
   "name": "python3"
  },
  "language_info": {
   "codemirror_mode": {
    "name": "ipython",
    "version": 3
   },
   "file_extension": ".py",
   "mimetype": "text/x-python",
   "name": "python",
   "nbconvert_exporter": "python",
   "pygments_lexer": "ipython3",
   "version": "3.10.9"
  }
 },
 "nbformat": 4,
 "nbformat_minor": 5
}
